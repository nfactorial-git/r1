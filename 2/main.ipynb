{
 "cells": [
  {
   "cell_type": "code",
   "execution_count": null,
   "id": "1ec3ba4b",
   "metadata": {
    "vscode": {
     "languageId": "plaintext"
    }
   },
   "outputs": [],
   "source": [
    "import numpy as np\n",
    "import pandas as pd\n",
    "import matplotlib.pyplot as plt\n",
    "import seaborn as sns\n",
    "from scipy.stats import skew, kurtosis"
   ]
  },
  {
   "cell_type": "code",
   "execution_count": null,
   "id": "4a64b10a",
   "metadata": {
    "vscode": {
     "languageId": "plaintext"
    }
   },
   "outputs": [],
   "source": [
    "df = pd.read_csv('Heart.csv')"
   ]
  },
  {
   "cell_type": "code",
   "execution_count": null,
   "id": "842f702e",
   "metadata": {
    "vscode": {
     "languageId": "plaintext"
    }
   },
   "outputs": [],
   "source": [
    "df.head()"
   ]
  },
  {
   "cell_type": "code",
   "execution_count": null,
   "id": "38a69a53",
   "metadata": {
    "vscode": {
     "languageId": "plaintext"
    }
   },
   "outputs": [],
   "source": [
    "df.describe()"
   ]
  },
  {
   "cell_type": "code",
   "execution_count": null,
   "id": "27262ffd",
   "metadata": {
    "vscode": {
     "languageId": "plaintext"
    }
   },
   "outputs": [],
   "source": [
    "for column in df.select_dtypes(include = ['number']).columns:\n",
    "    print(f'Statistics for {column}:')\n",
    "    print(f'Mean: {df[column].mean()}')\n",
    "    print(f'Median: {df[column].median()}')\n",
    "    print(f'Variance: {df[column].var()}')\n",
    "    print(f'Standard Deviation: {df[column].std()}')\n",
    "    print(f'Skewness: {df[column].skew()}')\n",
    "    print(f'Kurtosis: {df[column].kurtosis}')\n",
    "    print()"
   ]
  },
  {
   "cell_type": "code",
   "execution_count": null,
   "id": "182b6de9",
   "metadata": {
    "vscode": {
     "languageId": "plaintext"
    }
   },
   "outputs": [],
   "source": [
    "print(f'Correlation Matrix:')\n",
    "numeric_data = df.select_dtypes(include = np.number).columns\n",
    "correlation_matrix = numeric_data.corr()\n",
    "correlation_matrix"
   ]
  },
  {
   "cell_type": "code",
   "execution_count": null,
   "id": "93bfee62",
   "metadata": {
    "vscode": {
     "languageId": "plaintext"
    }
   },
   "outputs": [],
   "source": [
    "plt.figure(figsize = (10, 8))\n",
    "sns.heatmap(correlation_matrix, annot = True, cmap = 'coolwarm', fmt = '.2f')\n",
    "plt.title('Correlation Matrix Heatmap')\n",
    "plt.show()"
   ]
  },
  {
   "cell_type": "code",
   "execution_count": null,
   "id": "04703924",
   "metadata": {
    "vscode": {
     "languageId": "plaintext"
    }
   },
   "outputs": [],
   "source": [
    "columns_to_plot = df.select_dtypes(include = np.number)\n",
    "plt.figure(figsize = (10, 6))\n",
    "for column in columns_to_plot:\n",
    "    plt.plot(df.index, df[column], label = column)\n",
    "plt.title('Line Plot')\n",
    "plt.xlabel('Index')\n",
    "plt.ylabel('Values')\n",
    "plt.legend()\n",
    "plt.grid()\n",
    "plt.show()"
   ]
  },
  {
   "cell_type": "code",
   "execution_count": null,
   "id": "d05bd61a",
   "metadata": {
    "vscode": {
     "languageId": "plaintext"
    }
   },
   "outputs": [],
   "source": [
    "means = df[columns_to_plot].mean()\n",
    "means.plot(kind = 'bar', color = 'skyblue', figsize = (8, 6))\n",
    "plt.title('Bar plot of Mean Values')\n",
    "plt.xlabel('Columns')\n",
    "plt.ylabel('Mean')\n",
    "plt.show()"
   ]
  },
  {
   "cell_type": "code",
   "execution_count": null,
   "id": "c1ce4d46",
   "metadata": {
    "vscode": {
     "languageId": "plaintext"
    }
   },
   "outputs": [],
   "source": [
    "for column in columns_to_plot:\n",
    "    plt.figure(figsize = (8, 6))\n",
    "    plt.hist(df[column], bins = 15, color = 'orange', edgecolor = 'black')\n",
    "    plt.title(f'Histogram of {column}')\n",
    "    plt.xlabel(column)\n",
    "    plt.ylabel('frequency')\n",
    "    plt.show()\n",
    "    print()"
   ]
  },
  {
   "cell_type": "code",
   "execution_count": null,
   "id": "592d4408",
   "metadata": {
    "vscode": {
     "languageId": "plaintext"
    }
   },
   "outputs": [],
   "source": [
    "if len(columns_to_plot) >= 2:\n",
    "    plt.figure(figsize = (8, 6))\n",
    "    plt.scatter(df[columns_to_plot[0]], df[columns_to_plot[1]], color = 'green', alpha = 0.6)\n",
    "    plt.title(f'Scatter Plot of {columns_to_plot[0]} vs {columns_to_plot[1]}')\n",
    "    plt.xlabel(columns_to_plot[0])\n",
    "    plt.ylabel(columns_to_plot[1])\n",
    "    plt.grid()\n",
    "    plt.show()"
   ]
  }
 ],
 "metadata": {
  "language_info": {
   "name": "python"
  }
 },
 "nbformat": 4,
 "nbformat_minor": 5
}
