{
 "cells": [
  {
   "cell_type": "code",
   "execution_count": null,
   "id": "7a43c2c7",
   "metadata": {
    "vscode": {
     "languageId": "plaintext"
    }
   },
   "outputs": [],
   "source": [
    "import json\n",
    "import requests\n",
    "import schedule\n",
    "import time"
   ]
  },
  {
   "cell_type": "code",
   "execution_count": null,
   "id": "8a4a48a4",
   "metadata": {
    "vscode": {
     "languageId": "plaintext"
    }
   },
   "outputs": [],
   "source": [
    "def fetch_weather(city):\n",
    "    API_KEY = 'af066b90b114b6da137b54d724ec3f03'\n",
    "    url = f'https://api.openweathermap.org/data/2.5/weather?q={city}&appid={API_KEY}&units=metric'\n",
    "    response = requests.get(url)\n",
    "    if response.status_code == 200:\n",
    "        data = response.json()\n",
    "        return {\n",
    "            'City': city,\n",
    "            'Temperature': data['main']['temp'],\n",
    "            'Humidity': data['main']['humidity'],\n",
    "            'Weather': data['weather'][0]['description']\n",
    "        }\n",
    "    return None"
   ]
  },
  {
   "cell_type": "code",
   "execution_count": null,
   "id": "9863d373",
   "metadata": {
    "vscode": {
     "languageId": "plaintext"
    }
   },
   "outputs": [],
   "source": [
    "def automate_fetching():\n",
    "    weather_data = fetch_weather(\"London\")\n",
    "    if weather_data:\n",
    "        print(f'{weather_data}')\n",
    "    else:\n",
    "        print(f'Error fetching data')\n",
    "\n",
    "schedule.every(5).seconds.do(automate_fetching)\n",
    "\n",
    "while True:\n",
    "    schedule.run_pending()\n",
    "    time.sleep(1)"
   ]
  }
 ],
 "metadata": {
  "language_info": {
   "name": "python"
  }
 },
 "nbformat": 4,
 "nbformat_minor": 5
}
